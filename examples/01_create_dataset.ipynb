{
 "cells": [
  {
   "cell_type": "code",
   "execution_count": 1,
   "id": "ba0a6c32-63a4-486b-babf-af38b33ba980",
   "metadata": {},
   "outputs": [],
   "source": [
    "import os\n",
    "import glob\n",
    "import random\n",
    "import time\n",
    "\n",
    "import numpy as np\n",
    "from tqdm import tqdm\n",
    "\n",
    "from fbp import FBPDataset\n",
    "from fbp.src.utils import add_noise, delete_nans"
   ]
  },
  {
   "cell_type": "code",
   "execution_count": null,
   "id": "9afc2824-2701-4300-b506-896f4597d396",
   "metadata": {},
   "outputs": [],
   "source": [
    "# Load npz files and metadata\n",
    "npz_files = glob.glob(\"/scratch/gpi/seis/HIPER2/delsuc/Seisbench/PhaseNet_DAS_03_04_2025/data_npz/*\")[:20]\n",
    "metadata_path = \"/scratch/gpi/seis/HIPER2/delsuc/Seisbench/PhaseNet_DAS_03_04_2025/metadata\""
   ]
  },
  {
   "cell_type": "code",
   "execution_count": null,
   "id": "9c145e4b-8cf8-4341-883c-6ad08da11624",
   "metadata": {},
   "outputs": [],
   "source": [
    "# Create the dataset\n",
    "dataset = FBPDataset(npz_files=npz_files,\n",
    "                     metadata_path=metadata_path,\n",
    "                     sigma=sigma,\n",
    "                     shape=(1, 32, 2048),\n",
    "                     overlap=0.9,\n",
    "                     filter_kwargs=dict(type=\"bandpass\",\n",
    "                                        freqmin=2.5,\n",
    "                                        freqmax=16))"
   ]
  },
  {
   "cell_type": "code",
   "execution_count": null,
   "id": "05fe6698-71c4-485f-b75f-1e2de7e726d9",
   "metadata": {},
   "outputs": [],
   "source": [
    "# Save dataset as single npz file\n",
    "for i in tqdm(range(len(dataset))):\n",
    "    # Event count for step function\n",
    "    event_count = 0\n",
    "    for idx in range(dataset[i][1].shape[1]):\n",
    "        diff = np.diff(dataset[i][1][:, idx, :])\n",
    "        if np.max(diff) >= 0.98:\n",
    "            event_count += 1\n",
    "\n",
    "    if event_count > 28:\n",
    "        pathname = \"/scratch/gpi/seis/HIPER2/delsuc/Seisbench/PhaseNet_DAS_03_04_2025/npz_32_2048_bp2_5_8\"\n",
    "        file_num = str(random.randint(0, int(time.time())))\n",
    "\n",
    "        current_dataset = list(dataset[i])  # Transform tuple to list for item assignment\n",
    "\n",
    "        # Add this part if you would like to add gaussian noise to \n",
    "        # Taking only chunks with average SNR >= 4 dB.\n",
    "        noisy = False\n",
    "        # snr_chunks = delete_nans(dataset.snr_chunk[i])\n",
    "        # if np.average(snr_chunks) >= 4:\n",
    "        #     current_dataset[0] = add_noise(dataset=dataset[i][0],\n",
    "        #                                    scale=(0.1, 0.4))\n",
    "        #     noisy = True\n",
    "\n",
    "        if noisy is False:\n",
    "            filename = os.path.join(pathname, file_num)\n",
    "        else:\n",
    "            filename = os.path.join(pathname, f\"{file_num}_noise\")\n",
    "\n",
    "        np.savez(file=filename,\n",
    "                 data=current_dataset)"
   ]
  }
 ],
 "metadata": {
  "kernelspec": {
   "display_name": "Python 3 (ipykernel)",
   "language": "python",
   "name": "python3"
  },
  "language_info": {
   "codemirror_mode": {
    "name": "ipython",
    "version": 3
   },
   "file_extension": ".py",
   "mimetype": "text/x-python",
   "name": "python",
   "nbconvert_exporter": "python",
   "pygments_lexer": "ipython3",
   "version": "3.11.8"
  }
 },
 "nbformat": 4,
 "nbformat_minor": 5
}
